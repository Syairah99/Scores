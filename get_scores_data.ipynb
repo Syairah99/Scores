{
 "cells": [
  {
   "cell_type": "code",
   "execution_count": 1,
   "metadata": {},
   "outputs": [
    {
     "name": "stdout",
     "output_type": "stream",
     "text": [
      "Lowest score: 17\n",
      "Highest score: 80\n"
     ]
    }
   ],
   "source": [
    "def get_scores_data(scores_list) :\n",
    "    highest_score = max(scores_list)\n",
    "    lowest_score = min(scores_list)\n",
    "    return highest_score, lowest_score\n",
    "\n",
    "scores = [31,17,80]\n",
    "data = get_scores_data(scores)\n",
    "\n",
    "highest = data[0]\n",
    "lowest = data[1]\n",
    "print(f\"Lowest score: {lowest}\")\n",
    "print(f\"Highest score: {highest}\")"
   ]
  }
 ],
 "metadata": {
  "kernelspec": {
   "display_name": "base",
   "language": "python",
   "name": "python3"
  },
  "language_info": {
   "codemirror_mode": {
    "name": "ipython",
    "version": 3
   },
   "file_extension": ".py",
   "mimetype": "text/x-python",
   "name": "python",
   "nbconvert_exporter": "python",
   "pygments_lexer": "ipython3",
   "version": "3.9.13"
  },
  "orig_nbformat": 4,
  "vscode": {
   "interpreter": {
    "hash": "ca8ba4863bb9a55bc0fb1c66d7752777582cbc098f0764f347d1f8cde5fb9cb7"
   }
  }
 },
 "nbformat": 4,
 "nbformat_minor": 2
}
